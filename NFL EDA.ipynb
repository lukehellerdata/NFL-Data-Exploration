{
 "cells": [
  {
   "cell_type": "code",
   "execution_count": 4,
   "id": "79a9b5fa",
   "metadata": {},
   "outputs": [
    {
     "name": "stdout",
     "output_type": "stream",
     "text": [
      "Requirement already satisfied: nfl_data_py in c:\\users\\helle\\anaconda3\\lib\\site-packages (0.3.3)\n",
      "Requirement already satisfied: appdirs>1 in c:\\users\\helle\\anaconda3\\lib\\site-packages (from nfl_data_py) (1.4.4)\n",
      "Requirement already satisfied: pandas<2.0,>=1.0 in c:\\users\\helle\\anaconda3\\lib\\site-packages (from nfl_data_py) (1.5.3)\n",
      "Requirement already satisfied: numpy<2.0,>=1.0 in c:\\users\\helle\\anaconda3\\lib\\site-packages (from nfl_data_py) (1.21.5)\n",
      "Requirement already satisfied: fastparquet>0.5 in c:\\users\\helle\\anaconda3\\lib\\site-packages (from nfl_data_py) (2024.5.0)\n",
      "Requirement already satisfied: cramjam>=2.3 in c:\\users\\helle\\anaconda3\\lib\\site-packages (from fastparquet>0.5->nfl_data_py) (2.9.0)\n",
      "Requirement already satisfied: packaging in c:\\users\\helle\\anaconda3\\lib\\site-packages (from fastparquet>0.5->nfl_data_py) (21.3)\n",
      "Requirement already satisfied: fsspec in c:\\users\\helle\\anaconda3\\lib\\site-packages (from fastparquet>0.5->nfl_data_py) (2022.7.1)\n",
      "Requirement already satisfied: pytz>=2020.1 in c:\\users\\helle\\anaconda3\\lib\\site-packages (from pandas<2.0,>=1.0->nfl_data_py) (2023.3.post1)\n",
      "Requirement already satisfied: python-dateutil>=2.8.1 in c:\\users\\helle\\anaconda3\\lib\\site-packages (from pandas<2.0,>=1.0->nfl_data_py) (2.8.2)\n",
      "Requirement already satisfied: six>=1.5 in c:\\users\\helle\\anaconda3\\lib\\site-packages (from python-dateutil>=2.8.1->pandas<2.0,>=1.0->nfl_data_py) (1.16.0)\n",
      "Requirement already satisfied: pyparsing!=3.0.5,>=2.0.2 in c:\\users\\helle\\anaconda3\\lib\\site-packages (from packaging->fastparquet>0.5->nfl_data_py) (3.0.9)\n"
     ]
    }
   ],
   "source": [
    "!pip install nfl_data_py"
   ]
  },
  {
   "cell_type": "code",
   "execution_count": 6,
   "id": "73f71776",
   "metadata": {},
   "outputs": [],
   "source": [
    "import nfl_data_py as nfl"
   ]
  },
  {
   "cell_type": "code",
   "execution_count": 7,
   "id": "f92784b6",
   "metadata": {},
   "outputs": [],
   "source": [
    "import pandas as pd\n",
    "import nfl_data_py as nfl"
   ]
  },
  {
   "cell_type": "code",
   "execution_count": 11,
   "id": "5799fee8",
   "metadata": {},
   "outputs": [
    {
     "name": "stdout",
     "output_type": "stream",
     "text": [
      "2023 done.\n",
      "Downcasting floats.\n"
     ]
    }
   ],
   "source": [
    "pbp_py = nfl.import_pbp_data([2023])"
   ]
  },
  {
   "cell_type": "code",
   "execution_count": 12,
   "id": "3542e5e3",
   "metadata": {},
   "outputs": [],
   "source": [
    "filter_crit = 'play_type == \"pass\" & air_yards.notnull()'\n",
    "\n",
    "pbp_py_p = (\n",
    "    pbp_py.query(filter_crit)\n",
    "    .groupby([\"passer_id\", \"passer\"])\n",
    "    .agg({\"air_yards\": [\"count\", \"mean\"]})\n",
    ")\n",
    "\n",
    "#pbp_py_p[\"rank\"] = pbp_py_p[\"air_yards_mean\"].rank(ascending=False)"
   ]
  },
  {
   "cell_type": "code",
   "execution_count": 13,
   "id": "1c60fd25",
   "metadata": {},
   "outputs": [
    {
     "name": "stdout",
     "output_type": "stream",
     "text": [
      "                                air_yards_count  air_yards_mean  rank\n",
      "passer_id  passer                                                    \n",
      "00-0039152 W.Levis                          253       10.624506  16.0\n",
      "00-0033319 N.Mullens                        147        9.387755  19.0\n",
      "00-0033537 D.Watson                         170        9.370588  20.0\n",
      "00-0033869 M.Trubisky                       106        9.273585  21.0\n",
      "00-0039163 C.Stroud                         547        8.978063  24.0\n",
      "00-0026158 J.Flacco                         250        8.896000  27.0\n",
      "00-0028118 T.Taylor                         174        8.862069  28.0\n",
      "00-0036389 J.Hurts                          573        8.574171  29.0\n",
      "00-0034855 B.Mayfield                       643        8.542768  31.0\n",
      "00-0031800 T.Heinicke                       134        8.477612  32.0\n",
      "00-0034857 J.Allen                          646        8.448916  33.0\n",
      "00-0034796 L.Jackson                        515        8.446602  34.0\n",
      "00-0036264 J.Love                           632        8.420886  35.0\n",
      "00-0037834 B.Purdy                          548        8.312044  36.0\n",
      "00-0038122 D.Ridder                         386        8.246114  38.0\n",
      "00-0033275 P.Walker                         110        8.200000  41.0\n",
      "00-0036971 T.Lawrence                       564        8.179078  43.0\n",
      "00-0031345 J.Garoppolo                      168        8.130953  45.0\n",
      "00-0036945 J.Fields                         370        8.002703  47.0\n",
      "00-0038108 B.Zappe                          211        7.981043  48.0\n",
      "00-0029701 R.Tannehill                      228        7.969298  49.0\n",
      "00-0033949 J.Dobbs                          417        7.961631  50.0\n",
      "00-0026498 M.Stafford                       554        7.884477  51.0\n",
      "00-0033077 D.Prescott                       650        7.847692  52.0\n",
      "00-0031280 D.Carr                           548        7.810219  54.0\n",
      "00-0036212 T.Tagovailoa                     597        7.658291  59.0\n",
      "00-0036355 J.Herbert                        456        7.653509  60.0\n",
      "00-0039150 B.Young                          526        7.621673  61.0\n",
      "00-0037077 S.Howell                         612        7.496732  62.0\n",
      "00-0038579 A.O'Connell                      342        7.488304  63.0\n",
      "00-0037013 Z.Wilson                         365        7.320548  64.0\n",
      "00-0035289 G.Minshew II                     490        7.304081  65.0\n",
      "00-0029604 K.Cousins                        309        7.284790  66.0\n",
      "00-0035228 K.Murray                         267        7.247191  67.0\n",
      "00-0029263 R.Wilson                         443        7.196388  68.0\n",
      "00-0034771 M.Rudolph                        112        7.142857  69.0\n",
      "00-0038102 K.Pickett                        323        7.083591  71.0\n",
      "00-0030565 G.Smith                          495        7.070707  72.0\n",
      "00-0036972 M.Jones                          345        6.985507  74.0\n",
      "00-0035282 E.Stick                          173        6.959538  75.0\n",
      "00-0035710 D.Jones                          160        6.850000  76.0\n",
      "00-0033106 J.Goff                           712        6.769663  77.0\n",
      "00-0033873 P.Mahomes                        744        6.513441  80.0\n",
      "00-0036442 J.Burrow                         363        6.465565  81.0\n",
      "00-0038476 T.DeVito                         178        6.455056  82.0\n",
      "00-0035100 J.Browning                       243        6.395061  84.0\n",
      "00-0038583 D.Thompson-Robinson              110        6.018182  86.0\n",
      "00-0038416 T.Bagent                         143        5.692307  88.0\n",
      "00-0032156 T.Siemian                        153        5.320261  90.0\n"
     ]
    }
   ],
   "source": [
    "pbp_py_p.columns = list(map(\"_\".join, pbp_py_p.columns.values))\n",
    "\n",
    "sort_crit = \"air_yards_count > 100\"\n",
    "pbp_py_p[\"rank\"] = pbp_py_p[\"air_yards_mean\"].rank(ascending=False)\n",
    "print(\n",
    "    pbp_py_p.query(sort_crit)\\\n",
    "    .sort_values(by=\"air_yards_mean\", ascending=[False])\\\n",
    "    .to_string()\n",
    ")"
   ]
  },
  {
   "cell_type": "code",
   "execution_count": 14,
   "id": "886119c2",
   "metadata": {},
   "outputs": [
    {
     "name": "stdout",
     "output_type": "stream",
     "text": [
      "                                rank  air_yards_count  air_yards_mean\n",
      "passer_id  passer                                                    \n",
      "00-0039152 W.Levis               1.0              253       10.624506\n",
      "00-0033319 N.Mullens             2.0              147        9.387755\n",
      "00-0033537 D.Watson              3.0              170        9.370588\n",
      "00-0033869 M.Trubisky            4.0              106        9.273585\n",
      "00-0039163 C.Stroud              5.0              547        8.978063\n",
      "00-0026158 J.Flacco              6.0              250        8.896000\n",
      "00-0028118 T.Taylor              7.0              174        8.862069\n",
      "00-0036389 J.Hurts               8.0              573        8.574171\n",
      "00-0034855 B.Mayfield            9.0              643        8.542768\n",
      "00-0031800 T.Heinicke           10.0              134        8.477612\n",
      "00-0034857 J.Allen              11.0              646        8.448916\n",
      "00-0034796 L.Jackson            12.0              515        8.446602\n",
      "00-0036264 J.Love               13.0              632        8.420886\n",
      "00-0037834 B.Purdy              14.0              548        8.312044\n",
      "00-0038122 D.Ridder             15.0              386        8.246114\n",
      "00-0033275 P.Walker             16.0              110        8.200000\n",
      "00-0036971 T.Lawrence           17.0              564        8.179078\n",
      "00-0031345 J.Garoppolo          18.0              168        8.130953\n",
      "00-0036945 J.Fields             19.0              370        8.002703\n",
      "00-0038108 B.Zappe              20.0              211        7.981043\n",
      "00-0029701 R.Tannehill          21.0              228        7.969298\n",
      "00-0033949 J.Dobbs              22.0              417        7.961631\n",
      "00-0026498 M.Stafford           23.0              554        7.884477\n",
      "00-0033077 D.Prescott           24.0              650        7.847692\n",
      "00-0031280 D.Carr               25.0              548        7.810219\n",
      "00-0036212 T.Tagovailoa         26.0              597        7.658291\n",
      "00-0036355 J.Herbert            27.0              456        7.653509\n",
      "00-0039150 B.Young              28.0              526        7.621673\n",
      "00-0037077 S.Howell             29.0              612        7.496732\n",
      "00-0038579 A.O'Connell          30.0              342        7.488304\n",
      "00-0037013 Z.Wilson             31.0              365        7.320548\n",
      "00-0035289 G.Minshew II         32.0              490        7.304081\n",
      "00-0029604 K.Cousins            33.0              309        7.284790\n",
      "00-0035228 K.Murray             34.0              267        7.247191\n",
      "00-0029263 R.Wilson             35.0              443        7.196388\n",
      "00-0034771 M.Rudolph            36.0              112        7.142857\n",
      "00-0038102 K.Pickett            37.0              323        7.083591\n",
      "00-0030565 G.Smith              38.0              495        7.070707\n",
      "00-0036972 M.Jones              39.0              345        6.985507\n",
      "00-0035282 E.Stick              40.0              173        6.959538\n",
      "00-0035710 D.Jones              41.0              160        6.850000\n",
      "00-0033106 J.Goff               42.0              712        6.769663\n",
      "00-0033873 P.Mahomes            43.0              744        6.513441\n",
      "00-0036442 J.Burrow             44.0              363        6.465565\n",
      "00-0038476 T.DeVito             45.0              178        6.455056\n",
      "00-0035100 J.Browning           46.0              243        6.395061\n",
      "00-0038583 D.Thompson-Robinson  47.0              110        6.018182\n",
      "00-0038416 T.Bagent             48.0              143        5.692307\n",
      "00-0032156 T.Siemian            49.0              153        5.320261\n"
     ]
    },
    {
     "name": "stderr",
     "output_type": "stream",
     "text": [
      "C:\\Users\\helle\\AppData\\Local\\Temp\\ipykernel_21084\\3637633813.py:18: SettingWithCopyWarning: \n",
      "A value is trying to be set on a copy of a slice from a DataFrame.\n",
      "Try using .loc[row_indexer,col_indexer] = value instead\n",
      "\n",
      "See the caveats in the documentation: https://pandas.pydata.org/pandas-docs/stable/user_guide/indexing.html#returning-a-view-versus-a-copy\n",
      "  filtered_pbp_py_p[\"rank\"] = filtered_pbp_py_p[\"air_yards_mean\"].rank(ascending=False)\n"
     ]
    }
   ],
   "source": [
    "filter_crit = 'play_type == \"pass\" & air_yards.notnull()'\n",
    "\n",
    "pbp_py_p = (\n",
    "    pbp_py.query(filter_crit)\n",
    "    .groupby([\"passer_id\", \"passer\"])\n",
    "    .agg({\"air_yards\": [\"count\", \"mean\"]})\n",
    ")\n",
    "\n",
    "#pbp_py_p[\"rank\"] = pbp_py_p[\"air_yards_mean\"].rank(ascending=False)\n",
    "\n",
    "pbp_py_p.columns = list(map(\"_\".join, pbp_py_p.columns.values))\n",
    "\n",
    "# Filter the DataFrame\n",
    "sort_crit = \"air_yards_count > 100\"\n",
    "filtered_pbp_py_p = pbp_py_p.query(sort_crit)\n",
    "\n",
    "# Add a rank column based on air_yards_mean in descending order\n",
    "filtered_pbp_py_p[\"rank\"] = filtered_pbp_py_p[\"air_yards_mean\"].rank(ascending=False)\n",
    "\n",
    "# Reorder the columns to make 'rank' the first column\n",
    "columns = [\"rank\"] + [col for col in filtered_pbp_py_p.columns if col != \"rank\"]\n",
    "filtered_pbp_py_p = filtered_pbp_py_p[columns]\n",
    "\n",
    "\n",
    "# Sort and display the DataFrame\n",
    "print(\n",
    "    filtered_pbp_py_p\\\n",
    "    .sort_values(by=\"air_yards_mean\", ascending=[False])\\\n",
    "    .to_string()\n",
    ")"
   ]
  },
  {
   "cell_type": "markdown",
   "id": "d3cea570",
   "metadata": {},
   "source": [
    "## Filtering and Selecting Columns"
   ]
  },
  {
   "cell_type": "code",
   "execution_count": 15,
   "id": "d78fc372",
   "metadata": {},
   "outputs": [],
   "source": [
    "import pandas as pd\n",
    "import numpy as np\n",
    "import nfl_data_py as nfl"
   ]
  },
  {
   "cell_type": "code",
   "execution_count": 16,
   "id": "3d2501a3",
   "metadata": {},
   "outputs": [
    {
     "name": "stdout",
     "output_type": "stream",
     "text": [
      "2023 done.\n",
      "Downcasting floats.\n"
     ]
    }
   ],
   "source": [
    "pbp_py = nfl.import_pbp_data([2023])"
   ]
  },
  {
   "cell_type": "markdown",
   "id": "f6a2d979",
   "metadata": {},
   "source": [
    "### Filter out game data"
   ]
  },
  {
   "cell_type": "code",
   "execution_count": 17,
   "id": "6339ce61",
   "metadata": {},
   "outputs": [],
   "source": [
    "gb_det_2023_py = \\\n",
    "    pbp_py.query(\"home_team == 'GB' & away_team == 'DET'\")"
   ]
  },
  {
   "cell_type": "markdown",
   "id": "df99e7a5",
   "metadata": {},
   "source": [
    "### Select some pass related columns"
   ]
  },
  {
   "cell_type": "code",
   "execution_count": 18,
   "id": "adf674b3",
   "metadata": {},
   "outputs": [],
   "source": [
    "gb_det_2023_pass_py = \\\n",
    "    gb_det_2023_py[\n",
    "        [\"posteam\", \"yards_after_catch\", \"air_yards\", \"pass_location\", \"qb_scramble\"]\\\n",
    "]\n",
    "    \n"
   ]
  },
  {
   "cell_type": "code",
   "execution_count": 19,
   "id": "ce756138",
   "metadata": {},
   "outputs": [
    {
     "name": "stdout",
     "output_type": "stream",
     "text": [
      "       yards_after_catch  air_yards  qb_scramble\n",
      "count          42.000000  64.000000   177.000000\n",
      "mean            3.452381   8.171875     0.005650\n",
      "std             4.875036   9.393603     0.075165\n",
      "min            -2.000000  -7.000000     0.000000\n",
      "25%             0.000000   3.000000     0.000000\n",
      "50%             2.000000   6.000000     0.000000\n",
      "75%             5.000000  12.250000     0.000000\n",
      "max            23.000000  43.000000     1.000000\n"
     ]
    }
   ],
   "source": [
    "print(gb_det_2023_pass_py.describe())"
   ]
  },
  {
   "cell_type": "markdown",
   "id": "583d53d2",
   "metadata": {},
   "source": [
    "### Group by team"
   ]
  },
  {
   "cell_type": "code",
   "execution_count": 21,
   "id": "d24b497e",
   "metadata": {},
   "outputs": [
    {
     "name": "stdout",
     "output_type": "stream",
     "text": [
      "         yards_after_catch  air_yards  qb_scramble\n",
      "posteam                                           \n",
      "DET               5.052631   6.428571          1.0\n",
      "GB                2.130435   9.527778          0.0\n"
     ]
    }
   ],
   "source": [
    "gb_det_2023_team_grouped = gb_det_2023_pass_py.groupby(\"posteam\").agg({\n",
    "    \"yards_after_catch\": \"mean\", \n",
    "    \"air_yards\": \"mean\", \n",
    "    \"qb_scramble\": \"sum\"\n",
    "})\n",
    "\n",
    "print(gb_det_2023_team_grouped)"
   ]
  },
  {
   "cell_type": "code",
   "execution_count": 22,
   "id": "2a3c7b7e",
   "metadata": {},
   "outputs": [
    {
     "name": "stdout",
     "output_type": "stream",
     "text": [
      "        air_yards                                                    \n",
      "              min   max      mean median        std         var count\n",
      "posteam                                                              \n",
      "DET          -7.0  20.0  6.428571    6.0   7.724078   59.661377    28\n",
      "GB           -4.0  43.0  9.527778    6.5  10.415609  108.484924    36\n"
     ]
    }
   ],
   "source": [
    "print(gb_det_2023_pass_py.groupby(\"posteam\").agg(\n",
    "    {\n",
    "        \"air_yards\": [\"min\", \"max\", \"mean\", \"median\", \"std\", \"var\", \"count\"]\n",
    "    })\\\n",
    "    .sort_values(by=(\"posteam\"), ascending=[True])\n",
    "     )"
   ]
  },
  {
   "cell_type": "markdown",
   "id": "94cd0feb",
   "metadata": {},
   "source": [
    "### Add a second variable"
   ]
  },
  {
   "cell_type": "code",
   "execution_count": 23,
   "id": "1bc0513d",
   "metadata": {},
   "outputs": [
    {
     "name": "stdout",
     "output_type": "stream",
     "text": [
      "        yards_after_catch                                                    \\\n",
      "                      min   max      mean median       std        var count   \n",
      "posteam                                                                       \n",
      "DET                  -2.0  23.0  5.052631    3.0  6.518978  42.497078    19   \n",
      "GB                    0.0   8.0  2.130435    1.0  2.341413   5.482213    23   \n",
      "\n",
      "        air_yards                                                      \n",
      "              min   max      mean median        std         var count  \n",
      "posteam                                                                \n",
      "DET          -7.0  20.0  6.428571    6.0   7.724078   59.661377    28  \n",
      "GB           -4.0  43.0  9.527778    6.5  10.415609  108.484924    36  \n"
     ]
    }
   ],
   "source": [
    "print(gb_det_2023_pass_py.groupby(\"posteam\").agg(\n",
    "    {\n",
    "        \"yards_after_catch\": [\"min\", \"max\", \"mean\", \"median\", \"std\", \"var\", \"count\"],\n",
    "        \"air_yards\": [\"min\", \"max\", \"mean\", \"median\", \"std\", \"var\", \"count\"]\n",
    "    }))"
   ]
  },
  {
   "cell_type": "markdown",
   "id": "a32424af",
   "metadata": {},
   "source": [
    "## Practicing filters and sorting by looking at one specific game\n"
   ]
  },
  {
   "cell_type": "code",
   "execution_count": 25,
   "id": "a2b93807",
   "metadata": {},
   "outputs": [
    {
     "name": "stdout",
     "output_type": "stream",
     "text": [
      "     posteam  yards_after_catch  air_yards pass_location  qb_scramble\n",
      "9374     DET               23.0       12.0        middle          0.0\n"
     ]
    }
   ],
   "source": [
    "gb_det_2023_py_pass = pbp_py\\\n",
    "    .query(\"home_team == 'GB' & away_team == 'DET'\")\\\n",
    "    [['posteam', 'yards_after_catch', 'air_yards', 'pass_location', 'qb_scramble']]\n",
    "\n",
    "print(gb_det_2023_py_pass.query(\"yards_after_catch > 15\"))"
   ]
  },
  {
   "cell_type": "markdown",
   "id": "71b8d293",
   "metadata": {},
   "source": [
    "## Cleaning Sample Data\n",
    "### (changing data types)"
   ]
  },
  {
   "cell_type": "code",
   "execution_count": 26,
   "id": "6a8cd10f",
   "metadata": {},
   "outputs": [],
   "source": [
    "import pandas as pd\n",
    "\n",
    "wrong_number = \\\n",
    "    pd.DataFrame({\"col1\": [\"a\", \"b\"],\n",
    "                 \"col2\": [\"1A\", \"12\"], \n",
    "                 \"col3\": [2, 44]})\n",
    "\n"
   ]
  },
  {
   "cell_type": "code",
   "execution_count": 27,
   "id": "959272d4",
   "metadata": {},
   "outputs": [
    {
     "name": "stdout",
     "output_type": "stream",
     "text": [
      "<class 'pandas.core.frame.DataFrame'>\n",
      "RangeIndex: 2 entries, 0 to 1\n",
      "Data columns (total 3 columns):\n",
      " #   Column  Non-Null Count  Dtype \n",
      "---  ------  --------------  ----- \n",
      " 0   col1    2 non-null      object\n",
      " 1   col2    2 non-null      object\n",
      " 2   col3    2 non-null      int64 \n",
      "dtypes: int64(1), object(2)\n",
      "memory usage: 176.0+ bytes\n"
     ]
    }
   ],
   "source": [
    "wrong_number.loc[wrong_number.col2 == \"1A\", \"col2\"] = 10\n",
    "wrong_number.info()"
   ]
  },
  {
   "cell_type": "code",
   "execution_count": 28,
   "id": "fc48b45c",
   "metadata": {},
   "outputs": [
    {
     "name": "stdout",
     "output_type": "stream",
     "text": [
      "<class 'pandas.core.frame.DataFrame'>\n",
      "RangeIndex: 2 entries, 0 to 1\n",
      "Data columns (total 3 columns):\n",
      " #   Column  Non-Null Count  Dtype \n",
      "---  ------  --------------  ----- \n",
      " 0   col1    2 non-null      object\n",
      " 1   col2    2 non-null      int64 \n",
      " 2   col3    2 non-null      int64 \n",
      "dtypes: int64(2), object(1)\n",
      "memory usage: 176.0+ bytes\n"
     ]
    }
   ],
   "source": [
    "wrong_number[\"col2\"] = \\\n",
    "    pd.to_numeric(wrong_number[\"col2\"])\n",
    "wrong_number.info()"
   ]
  },
  {
   "cell_type": "code",
   "execution_count": 29,
   "id": "88b21929",
   "metadata": {},
   "outputs": [
    {
     "data": {
      "text/html": [
       "<div>\n",
       "<style scoped>\n",
       "    .dataframe tbody tr th:only-of-type {\n",
       "        vertical-align: middle;\n",
       "    }\n",
       "\n",
       "    .dataframe tbody tr th {\n",
       "        vertical-align: top;\n",
       "    }\n",
       "\n",
       "    .dataframe thead th {\n",
       "        text-align: right;\n",
       "    }\n",
       "</style>\n",
       "<table border=\"1\" class=\"dataframe\">\n",
       "  <thead>\n",
       "    <tr style=\"text-align: right;\">\n",
       "      <th></th>\n",
       "      <th>col2</th>\n",
       "      <th>col3</th>\n",
       "    </tr>\n",
       "  </thead>\n",
       "  <tbody>\n",
       "    <tr>\n",
       "      <th>count</th>\n",
       "      <td>2.000000</td>\n",
       "      <td>2.000000</td>\n",
       "    </tr>\n",
       "    <tr>\n",
       "      <th>mean</th>\n",
       "      <td>11.000000</td>\n",
       "      <td>23.000000</td>\n",
       "    </tr>\n",
       "    <tr>\n",
       "      <th>std</th>\n",
       "      <td>1.414214</td>\n",
       "      <td>29.698485</td>\n",
       "    </tr>\n",
       "    <tr>\n",
       "      <th>min</th>\n",
       "      <td>10.000000</td>\n",
       "      <td>2.000000</td>\n",
       "    </tr>\n",
       "    <tr>\n",
       "      <th>25%</th>\n",
       "      <td>10.500000</td>\n",
       "      <td>12.500000</td>\n",
       "    </tr>\n",
       "    <tr>\n",
       "      <th>50%</th>\n",
       "      <td>11.000000</td>\n",
       "      <td>23.000000</td>\n",
       "    </tr>\n",
       "    <tr>\n",
       "      <th>75%</th>\n",
       "      <td>11.500000</td>\n",
       "      <td>33.500000</td>\n",
       "    </tr>\n",
       "    <tr>\n",
       "      <th>max</th>\n",
       "      <td>12.000000</td>\n",
       "      <td>44.000000</td>\n",
       "    </tr>\n",
       "  </tbody>\n",
       "</table>\n",
       "</div>"
      ],
      "text/plain": [
       "            col2       col3\n",
       "count   2.000000   2.000000\n",
       "mean   11.000000  23.000000\n",
       "std     1.414214  29.698485\n",
       "min    10.000000   2.000000\n",
       "25%    10.500000  12.500000\n",
       "50%    11.000000  23.000000\n",
       "75%    11.500000  33.500000\n",
       "max    12.000000  44.000000"
      ]
     },
     "execution_count": 29,
     "metadata": {},
     "output_type": "execute_result"
    }
   ],
   "source": [
    "wrong_number.describe()"
   ]
  },
  {
   "cell_type": "markdown",
   "id": "fc5e4129",
   "metadata": {},
   "source": [
    "## Merging Datasets"
   ]
  },
  {
   "cell_type": "code",
   "execution_count": 30,
   "id": "b68d86aa",
   "metadata": {},
   "outputs": [],
   "source": [
    "city_data = \\\n",
    "    pd.DataFrame({\"city\": ['DET', 'GB', 'HOU'],\n",
    "                 \"team\": ['Lions', 'Packers', 'Texans']})\n",
    "schedule = \\\n",
    "    pd.DataFrame({\"home\": [\"GB\", \"DET\"],\n",
    "                 \"away\": [\"DET\", \"HOU\"]})"
   ]
  },
  {
   "cell_type": "code",
   "execution_count": 31,
   "id": "14bb53d2",
   "metadata": {},
   "outputs": [
    {
     "data": {
      "text/html": [
       "<div>\n",
       "<style scoped>\n",
       "    .dataframe tbody tr th:only-of-type {\n",
       "        vertical-align: middle;\n",
       "    }\n",
       "\n",
       "    .dataframe tbody tr th {\n",
       "        vertical-align: top;\n",
       "    }\n",
       "\n",
       "    .dataframe thead th {\n",
       "        text-align: right;\n",
       "    }\n",
       "</style>\n",
       "<table border=\"1\" class=\"dataframe\">\n",
       "  <thead>\n",
       "    <tr style=\"text-align: right;\">\n",
       "      <th></th>\n",
       "      <th>city</th>\n",
       "      <th>team</th>\n",
       "    </tr>\n",
       "  </thead>\n",
       "  <tbody>\n",
       "    <tr>\n",
       "      <th>0</th>\n",
       "      <td>DET</td>\n",
       "      <td>Lions</td>\n",
       "    </tr>\n",
       "    <tr>\n",
       "      <th>1</th>\n",
       "      <td>GB</td>\n",
       "      <td>Packers</td>\n",
       "    </tr>\n",
       "    <tr>\n",
       "      <th>2</th>\n",
       "      <td>HOU</td>\n",
       "      <td>Texans</td>\n",
       "    </tr>\n",
       "  </tbody>\n",
       "</table>\n",
       "</div>"
      ],
      "text/plain": [
       "  city     team\n",
       "0  DET    Lions\n",
       "1   GB  Packers\n",
       "2  HOU   Texans"
      ]
     },
     "execution_count": 31,
     "metadata": {},
     "output_type": "execute_result"
    }
   ],
   "source": [
    "city_data"
   ]
  },
  {
   "cell_type": "code",
   "execution_count": 32,
   "id": "813562ac",
   "metadata": {},
   "outputs": [
    {
     "name": "stdout",
     "output_type": "stream",
     "text": [
      "  home away city     team\n",
      "1  DET  HOU  DET    Lions\n",
      "0   GB  DET   GB  Packers\n",
      "2  NaN  NaN  HOU   Texans\n"
     ]
    }
   ],
   "source": [
    "print(schedule.merge(city_data, how = 'outer', \n",
    "                    left_on = 'home', right_on = 'city')\n",
    "              .sort_values('team', ascending = True)\n",
    "     )"
   ]
  },
  {
   "cell_type": "markdown",
   "id": "d68edb53",
   "metadata": {},
   "source": [
    "#### How would you merge the two data sets to just print the home and away cities and home and away teams?"
   ]
  },
  {
   "cell_type": "code",
   "execution_count": 33,
   "id": "4bef4c75",
   "metadata": {},
   "outputs": [
    {
     "name": "stdout",
     "output_type": "stream",
     "text": [
      "  home away home_team away_team\n",
      "0   GB  DET   Packers     Lions\n",
      "1  DET  HOU     Lions    Texans\n"
     ]
    }
   ],
   "source": [
    "step_1 = schedule.merge(city_data, how = 'left',\n",
    "                            left_on = 'home', right_on = 'city')\n",
    "step_2 = step_1.rename(columns = \n",
    "                      {\"team\": \"home_team\"}).drop(columns = 'city')\n",
    "step_3 = step_2.merge(city_data, how = 'left', \n",
    "                         left_on = \"away\", right_on = \"city\")\n",
    "schedule_name = step_3.rename(columns = \n",
    "                             {\"team\": \"away_team\"}).drop(columns = 'city')\n",
    "print(schedule_name)"
   ]
  },
  {
   "cell_type": "markdown",
   "id": "19fd2194",
   "metadata": {},
   "source": [
    "## Analyze Stable vs Unstable QB Play"
   ]
  },
  {
   "cell_type": "markdown",
   "id": "03273b8e",
   "metadata": {},
   "source": [
    "#### Obtain and Filter Data"
   ]
  },
  {
   "cell_type": "code",
   "execution_count": 34,
   "id": "8da44728",
   "metadata": {},
   "outputs": [],
   "source": [
    "import pandas as pd\n",
    "import numpy as np\n",
    "import nfl_data_py as nfl"
   ]
  },
  {
   "cell_type": "code",
   "execution_count": 35,
   "id": "4e27ab82",
   "metadata": {
    "scrolled": true
   },
   "outputs": [
    {
     "name": "stdout",
     "output_type": "stream",
     "text": [
      "2016 done.\n",
      "2017 done.\n",
      "2018 done.\n",
      "2019 done.\n",
      "2020 done.\n",
      "2021 done.\n",
      "2022 done.\n",
      "2023 done.\n",
      "2024 done.\n",
      "Downcasting floats.\n"
     ]
    }
   ],
   "source": [
    "seasons = range(2016, 2024 + 1)\n",
    "pbp_py = nfl.import_pbp_data(seasons)"
   ]
  },
  {
   "cell_type": "code",
   "execution_count": 36,
   "id": "ded8f919",
   "metadata": {},
   "outputs": [],
   "source": [
    "##Filter to just passing plays\n",
    "pbp_py_p = pbp_py\\\n",
    "    .query(\"play_type == 'pass' & air_yards.notnull()\")\\\n",
    "    .reset_index()\n",
    "    "
   ]
  },
  {
   "cell_type": "code",
   "execution_count": 37,
   "id": "c2a0d645",
   "metadata": {},
   "outputs": [],
   "source": [
    "## Categorize long and short passes\n",
    "\n",
    "pbp_py_p[\"pass_length_air_yards\"] = np.where(\n",
    "    pbp_py_p[\"air_yards\"] >= 20, \"long\", \"short\"\n",
    ")\n",
    "\n",
    "## Replace missing values\n",
    "\n",
    "pbp_py_p[\"passing_yards\"] = \\\n",
    "    np.where(\n",
    "        pbp_py_p[\"passing_yards\"].isnull(), 0, pbp_py_p[\"passing_yards\"]\n",
    "    )"
   ]
  },
  {
   "cell_type": "code",
   "execution_count": 38,
   "id": "c39eef08",
   "metadata": {
    "scrolled": true
   },
   "outputs": [
    {
     "data": {
      "text/plain": [
       "count    161371.000000\n",
       "mean          7.176853\n",
       "std           9.672085\n",
       "min         -24.000000\n",
       "25%           0.000000\n",
       "50%           5.000000\n",
       "75%          11.000000\n",
       "max          98.000000\n",
       "Name: passing_yards, dtype: float64"
      ]
     },
     "execution_count": 38,
     "metadata": {},
     "output_type": "execute_result"
    }
   ],
   "source": [
    "## Examine passing_yards field\n",
    "\n",
    "pbp_py_p[\"passing_yards\"]\\\n",
    "    .describe()"
   ]
  },
  {
   "cell_type": "code",
   "execution_count": 39,
   "id": "0cfdf18d",
   "metadata": {},
   "outputs": [
    {
     "data": {
      "text/plain": [
       "count    142380.000000\n",
       "mean          6.514391\n",
       "std           7.710880\n",
       "min         -24.000000\n",
       "25%           0.000000\n",
       "50%           5.000000\n",
       "75%          10.000000\n",
       "max          95.000000\n",
       "Name: passing_yards, dtype: float64"
      ]
     },
     "execution_count": 39,
     "metadata": {},
     "output_type": "execute_result"
    }
   ],
   "source": [
    "## Examine data for different lengths of pass yards\n",
    "\n",
    "pbp_py_p\\\n",
    "    .query('pass_length_air_yards == \"short\"')[\"passing_yards\"]\\\n",
    "    .describe()"
   ]
  },
  {
   "cell_type": "code",
   "execution_count": 40,
   "id": "3f02ec97",
   "metadata": {},
   "outputs": [
    {
     "name": "stdout",
     "output_type": "stream",
     "text": [
      "                          count       mean        std   min  25%  50%   75%  \\\n",
      "pass_length_air_yards                                                         \n",
      "long                    18991.0  12.143489  17.908195   0.0  0.0  0.0  26.0   \n",
      "short                  142380.0   6.514391   7.710880 -24.0  0.0  5.0  10.0   \n",
      "\n",
      "                        max  \n",
      "pass_length_air_yards        \n",
      "long                   98.0  \n",
      "short                  95.0  \n"
     ]
    }
   ],
   "source": [
    "## Group by \"pass_length_air_yards\"\n",
    "\n",
    "summary_stats = pbp_py_p[\"passing_yards\"].groupby(pbp_py_p[\"pass_length_air_yards\"]).describe()\n",
    "print(summary_stats)"
   ]
  },
  {
   "cell_type": "code",
   "execution_count": 41,
   "id": "aebe82b2",
   "metadata": {},
   "outputs": [
    {
     "data": {
      "text/plain": [
       "count    142379.000000\n",
       "mean          0.116298\n",
       "std           1.429460\n",
       "min         -13.031219\n",
       "25%          -0.610094\n",
       "50%          -0.009362\n",
       "75%           0.954769\n",
       "max           8.241420\n",
       "Name: epa, dtype: float64"
      ]
     },
     "execution_count": 41,
     "metadata": {},
     "output_type": "execute_result"
    }
   ],
   "source": [
    "## Examine EPA Data\n",
    "\n",
    "pbp_py_p\\\n",
    "    .query('pass_length_air_yards == \"short\"')[\"epa\"]\\\n",
    "    .describe()"
   ]
  },
  {
   "cell_type": "markdown",
   "id": "63c2ab6c",
   "metadata": {},
   "source": [
    "### Creating Passing Yard Frequency Histogram\n"
   ]
  },
  {
   "cell_type": "code",
   "execution_count": 42,
   "id": "fbb21f54",
   "metadata": {},
   "outputs": [
    {
     "data": {
      "image/png": "[encoded data removed]",
      "text/plain": [
       "<Figure size 500x500 with 1 Axes>"
      ]
     },
     "metadata": {},
     "output_type": "display_data"
    }
   ],
   "source": [
    "import seaborn as sns\n",
    "import matplotlib.pyplot as plt\n",
    "\n",
    "# create the plot\n",
    "sns.displot(data = pbp_py, x = \"passing_yards\")\n",
    "\n",
    "# add a title\n",
    "plt.title('Distribution of Passing Yards')\n",
    "\n",
    "# show the plot\n",
    "plt.show()"
   ]
  },
  {
   "cell_type": "code",
   "execution_count": 43,
   "id": "f7cc785f",
   "metadata": {},
   "outputs": [
    {
     "data": {
      "image/png": "[encoded data removed]",
      "text/plain": [
       "<Figure size 500x500 with 1 Axes>"
      ]
     },
     "metadata": {},
     "output_type": "display_data"
    }
   ],
   "source": [
    "## Histogram of passing yards gained or lost on short passes\n",
    "\n",
    "# adjusting plot style and look\n",
    "sns.set_theme(style = \"whitegrid\", palette = \"colorblind\")\n",
    "\n",
    "# filter out short passes\n",
    "pbp_py_p_short = \\\n",
    "    pbp_py_p\\\n",
    "    .query('pass_length_air_yards == \"short\"')\n",
    "\n",
    "# create histogram with custom axis labels\n",
    "pbp_py_hist_short = \\\n",
    "    sns.displot(data = pbp_py_p_short,\n",
    "                   binwidth = 1,\n",
    "                   x = \"passing_yards\")\n",
    "pbp_py_hist_short\\\n",
    "    .set_axis_labels(\n",
    "    \"Yards gained or lost during a short passing play\", \"Count\")\n",
    "\n",
    "plt.show()\n",
    "    \n"
   ]
  },
  {
   "cell_type": "markdown",
   "id": "f1ff91b5",
   "metadata": {},
   "source": [
    "## Boxplot"
   ]
  },
  {
   "cell_type": "code",
   "execution_count": 44,
   "id": "26e8e393",
   "metadata": {},
   "outputs": [
    {
     "data": {
      "image/png": "[encoded data removed]",
      "text/plain": [
       "<Figure size 640x480 with 1 Axes>"
      ]
     },
     "metadata": {},
     "output_type": "display_data"
    }
   ],
   "source": [
    "## Distribution of pass lengths for short and long passes\n",
    "\n",
    "pass_boxplot =\\\n",
    "    sns.boxplot(data = pbp_py_p, \n",
    "                   x = \"pass_length_air_yards\", \n",
    "                   y = \"passing_yards\")\n",
    "pass_boxplot.set(\n",
    "    xlabel = \"Pass length ( long >= 20 yards, short < 20 yards)\",\n",
    "    ylabel= \"Yards gained (or lost) during a passing play\")\n",
    "\n",
    "plt.title('Distribution of Yards Gained by Pass Length')\n",
    "\n",
    "plt.show()"
   ]
  },
  {
   "cell_type": "markdown",
   "id": "e90c4bc0",
   "metadata": {},
   "source": [
    "## Player level stability of Passing Yards per Attempt"
   ]
  },
  {
   "cell_type": "code",
   "execution_count": 45,
   "id": "6ccfeda4",
   "metadata": {},
   "outputs": [
    {
     "data": {
      "text/html": [
       "<div>\n",
       "<style scoped>\n",
       "    .dataframe tbody tr th:only-of-type {\n",
       "        vertical-align: middle;\n",
       "    }\n",
       "\n",
       "    .dataframe tbody tr th {\n",
       "        vertical-align: top;\n",
       "    }\n",
       "\n",
       "    .dataframe thead th {\n",
       "        text-align: right;\n",
       "    }\n",
       "</style>\n",
       "<table border=\"1\" class=\"dataframe\">\n",
       "  <thead>\n",
       "    <tr style=\"text-align: right;\">\n",
       "      <th></th>\n",
       "      <th></th>\n",
       "      <th></th>\n",
       "      <th>ypa</th>\n",
       "      <th>n</th>\n",
       "    </tr>\n",
       "    <tr>\n",
       "      <th>passer_id</th>\n",
       "      <th>passer</th>\n",
       "      <th>season</th>\n",
       "      <th></th>\n",
       "      <th></th>\n",
       "    </tr>\n",
       "  </thead>\n",
       "  <tbody>\n",
       "    <tr>\n",
       "      <th>00-0023682</th>\n",
       "      <th>R.Fitzpatrick</th>\n",
       "      <th>2018</th>\n",
       "      <td>9.617887</td>\n",
       "      <td>246</td>\n",
       "    </tr>\n",
       "    <tr>\n",
       "      <th>00-0026143</th>\n",
       "      <th>M.Ryan</th>\n",
       "      <th>2016</th>\n",
       "      <td>9.442155</td>\n",
       "      <td>631</td>\n",
       "    </tr>\n",
       "    <tr>\n",
       "      <th>00-0033106</th>\n",
       "      <th>J.Goff</th>\n",
       "      <th>2024</th>\n",
       "      <td>9.263941</td>\n",
       "      <td>269</td>\n",
       "    </tr>\n",
       "    <tr>\n",
       "      <th>00-0037834</th>\n",
       "      <th>B.Purdy</th>\n",
       "      <th>2023</th>\n",
       "      <td>9.222628</td>\n",
       "      <td>548</td>\n",
       "    </tr>\n",
       "    <tr>\n",
       "      <th>00-0034796</th>\n",
       "      <th>L.Jackson</th>\n",
       "      <th>2024</th>\n",
       "      <td>9.072556</td>\n",
       "      <td>317</td>\n",
       "    </tr>\n",
       "  </tbody>\n",
       "</table>\n",
       "</div>"
      ],
      "text/plain": [
       "                                      ypa    n\n",
       "passer_id  passer        season               \n",
       "00-0023682 R.Fitzpatrick 2018    9.617887  246\n",
       "00-0026143 M.Ryan        2016    9.442155  631\n",
       "00-0033106 J.Goff        2024    9.263941  269\n",
       "00-0037834 B.Purdy       2023    9.222628  548\n",
       "00-0034796 L.Jackson     2024    9.072556  317"
      ]
     },
     "execution_count": 45,
     "metadata": {},
     "output_type": "execute_result"
    }
   ],
   "source": [
    "pbp_py_p_s = \\\n",
    "    pbp_py_p\\\n",
    "        .groupby([\"passer_id\", \"passer\", \"season\"])\\\n",
    "        .agg({\"passing_yards\": [\"mean\", \"count\"]})\n",
    "\n",
    "## collapse columns to make dataframe easier to handle\n",
    "pbp_py_p_s.columns = list(map(\"_\".join, pbp_py_p_s.columns.values))\n",
    "\n",
    "## rename columns to names that make sense\n",
    "pbp_py_p_s\\\n",
    "    .rename(columns = {'passing_yards_mean': 'ypa',\n",
    "                        'passing_yards_count': 'n'},\n",
    "                inplace = True)\n",
    "                 \n",
    "    \n",
    "## analyze data\n",
    "pbp_py_p_s\\\n",
    "    .query(\"n >= 100\")\\\n",
    "    .sort_values(by = [\"ypa\"], ascending = False)\\\n",
    "    .head()\n",
    "\n"
   ]
  },
  {
   "cell_type": "code",
   "execution_count": 46,
   "id": "7f134d2a",
   "metadata": {},
   "outputs": [
    {
     "name": "stdout",
     "output_type": "stream",
     "text": [
      "   pass_length_air_yards     passer  season        ypa   ypa_last\n",
      "47                  long  A.Rodgers    2019  12.092592  12.011628\n",
      "49                  long  A.Rodgers    2020  16.097826  12.092592\n",
      "51                  long  A.Rodgers    2021  14.302631  16.097826\n",
      "53                  long  A.Rodgers    2022  10.312500  14.302631\n",
      "45                 short  A.Rodgers    2017   6.041475   6.693523\n",
      "46                 short  A.Rodgers    2018   6.697446   6.041475\n",
      "48                 short  A.Rodgers    2019   6.207224   6.697446\n",
      "50                 short  A.Rodgers    2020   6.718447   6.207224\n",
      "52                 short  A.Rodgers    2021   6.777083   6.718447\n",
      "54                 short  A.Rodgers    2022   6.239130   6.777083\n"
     ]
    }
   ],
   "source": [
    "## Deep passes vs short passes\n",
    "\n",
    "pbp_py_p_s_pl = \\\n",
    "    pbp_py_p\\\n",
    "    .groupby([\"passer_id\", \"passer\", \"season\", \"pass_length_air_yards\"])\\\n",
    "    .agg({\"passing_yards\": [\"mean\", \"count\"]})\n",
    "\n",
    "## flatten column name and rename columns so they are easier to work with\n",
    "\n",
    "pbp_py_p_s_pl.columns=\\\n",
    "    list(map(\"_\".join, pbp_py_p_s_pl.columns.values))\n",
    "pbp_py_p_s_pl\\\n",
    "    .rename(columns = {'passing_yards_mean': 'ypa',\n",
    "                        'passing_yards_count': 'n'},\n",
    "                   inplace = True)\n",
    "\n",
    "## Reset index\n",
    "pbp_py_p_s_pl.reset_index(inplace = True)\n",
    "\n",
    "## select only short passes from QBs with >= 100 attempts or long passes with >= 30\n",
    "q_value = (\n",
    "    '(n >= 100 & ' +\n",
    "        'pass_length_air_yards == \"short\") | ' +\n",
    "        '(n > 30 & ' +\n",
    "        'pass_length_air_yards == \"long\")'\n",
    "    )\n",
    "\n",
    "pbp_py_p_s_pl = pbp_py_p_s_pl.query(q_value).reset_index()\n",
    "\n",
    "## create list of columns to save and a new dataframe with only the new columns\n",
    "\n",
    "cols_save =\\\n",
    "    [\"passer_id\", \"passer\", \"season\", \"pass_length_air_yards\", \"ypa\"]\n",
    "air_yards_py =\\\n",
    "    pbp_py_p_s_pl[cols_save].copy()\n",
    "\n",
    "## copy air_yards_py to create lag that we will compare data to\n",
    "air_yards_lag_py =\\\n",
    "    air_yards_py\\\n",
    "    .copy()\n",
    "air_yards_lag_py[\"season\"] += 1\n",
    "air_yards_lag_py\\\n",
    "    .rename(columns = {'ypa': 'ypa_last'},\n",
    "               inplace = True)\n",
    "\n",
    "## join the two dataframes\n",
    "pbp_py_p_s_pl =\\\n",
    "    air_yards_py\\\n",
    "    .merge(air_yards_lag_py, \n",
    "              how = 'inner',\n",
    "              on = ['passer_id', 'passer', 'season', 'pass_length_air_yards'])\n",
    "\n",
    "## check current progress by looking at just one specific QB\n",
    "print(\n",
    "    pbp_py_p_s_pl[[\"pass_length_air_yards\", \"passer\", \"season\", \"ypa\", \"ypa_last\"]]\\\n",
    "    .query('passer == \"A.Rodgers\"')\\\n",
    "    .sort_values([\"passer\", \"pass_length_air_yards\", \"season\"])\\\n",
    "    .to_string()\n",
    ")\n"
   ]
  },
  {
   "cell_type": "code",
   "execution_count": 52,
   "id": "6892a10c",
   "metadata": {},
   "outputs": [
    {
     "data": {
      "image/png": "[encoded data removed]",
      "text/plain": [
       "<Figure size 1000x500 with 2 Axes>"
      ]
     },
     "metadata": {},
     "output_type": "display_data"
    }
   ],
   "source": [
    "## Create a scatterplot of the data, comparing the YPA of this year vs the YPA of previous year\n",
    "sns.lmplot(data = pbp_py_p_s_pl, \n",
    "              x = 'ypa', \n",
    "              y = 'ypa_last', \n",
    "              col = 'pass_length_air_yards')\n",
    "plt.show()"
   ]
  },
  {
   "cell_type": "code",
   "execution_count": 53,
   "id": "fe777c08",
   "metadata": {},
   "outputs": [
    {
     "data": {
      "text/html": [
       "<div>\n",
       "<style scoped>\n",
       "    .dataframe tbody tr th:only-of-type {\n",
       "        vertical-align: middle;\n",
       "    }\n",
       "\n",
       "    .dataframe tbody tr th {\n",
       "        vertical-align: top;\n",
       "    }\n",
       "\n",
       "    .dataframe thead th {\n",
       "        text-align: right;\n",
       "    }\n",
       "</style>\n",
       "<table border=\"1\" class=\"dataframe\">\n",
       "  <thead>\n",
       "    <tr style=\"text-align: right;\">\n",
       "      <th></th>\n",
       "      <th></th>\n",
       "      <th>ypa</th>\n",
       "      <th>ypa_last</th>\n",
       "    </tr>\n",
       "    <tr>\n",
       "      <th>pass_length_air_yards</th>\n",
       "      <th></th>\n",
       "      <th></th>\n",
       "      <th></th>\n",
       "    </tr>\n",
       "  </thead>\n",
       "  <tbody>\n",
       "    <tr>\n",
       "      <th rowspan=\"2\" valign=\"top\">long</th>\n",
       "      <th>ypa</th>\n",
       "      <td>1.000000</td>\n",
       "      <td>0.212968</td>\n",
       "    </tr>\n",
       "    <tr>\n",
       "      <th>ypa_last</th>\n",
       "      <td>0.212968</td>\n",
       "      <td>1.000000</td>\n",
       "    </tr>\n",
       "    <tr>\n",
       "      <th rowspan=\"2\" valign=\"top\">short</th>\n",
       "      <th>ypa</th>\n",
       "      <td>1.000000</td>\n",
       "      <td>0.463570</td>\n",
       "    </tr>\n",
       "    <tr>\n",
       "      <th>ypa_last</th>\n",
       "      <td>0.463570</td>\n",
       "      <td>1.000000</td>\n",
       "    </tr>\n",
       "  </tbody>\n",
       "</table>\n",
       "</div>"
      ],
      "text/plain": [
       "                                     ypa  ypa_last\n",
       "pass_length_air_yards                             \n",
       "long                  ypa       1.000000  0.212968\n",
       "                      ypa_last  0.212968  1.000000\n",
       "short                 ypa       1.000000  0.463570\n",
       "                      ypa_last  0.463570  1.000000"
      ]
     },
     "execution_count": 53,
     "metadata": {},
     "output_type": "execute_result"
    }
   ],
   "source": [
    "## Correlation data for the graphs above\n",
    "pbp_py_p_s_pl\\\n",
    "    .query('ypa.notnull() & ypa_last.notnull()')\\\n",
    "    .groupby('pass_length_air_yards')[[\"ypa\", \"ypa_last\"]]\\\n",
    "    .corr()"
   ]
  },
  {
   "cell_type": "code",
   "execution_count": null,
   "id": "84f4ee7c",
   "metadata": {},
   "outputs": [],
   "source": [
    "## Based on the correlations seen here, we can confirm that although throwing deep passes is more valuable,\n",
    "    ##short passes are more stable from one year to the next and may be more useful in evaluating a QB"
   ]
  },
  {
   "cell_type": "code",
   "execution_count": null,
   "id": "c4270daf",
   "metadata": {},
   "outputs": [],
   "source": []
  },
  {
   "cell_type": "code",
   "execution_count": null,
   "id": "5791edea",
   "metadata": {},
   "outputs": [],
   "source": []
  },
  {
   "cell_type": "code",
   "execution_count": null,
   "id": "01960517",
   "metadata": {},
   "outputs": [],
   "source": []
  },
  {
   "cell_type": "code",
   "execution_count": null,
   "id": "040da8e4",
   "metadata": {},
   "outputs": [],
   "source": []
  },
  {
   "cell_type": "code",
   "execution_count": null,
   "id": "6c5e5489",
   "metadata": {},
   "outputs": [],
   "source": []
  },
  {
   "cell_type": "code",
   "execution_count": null,
   "id": "cd4ca1c6",
   "metadata": {},
   "outputs": [],
   "source": []
  },
  {
   "cell_type": "markdown",
   "id": "480f06db",
   "metadata": {},
   "source": [
    "## Punting Analysis\n"
   ]
  },
  {
   "cell_type": "code",
   "execution_count": 266,
   "id": "2af933a6",
   "metadata": {},
   "outputs": [
    {
     "name": "stdout",
     "output_type": "stream",
     "text": [
      "2016 done.\n",
      "2017 done.\n",
      "2018 done.\n",
      "2019 done.\n",
      "2020 done.\n",
      "2021 done.\n",
      "2022 done.\n",
      "2023 done.\n",
      "2024 done.\n",
      "Downcasting floats.\n",
      "Index(['play_id', 'game_id', 'old_game_id_x', 'home_team', 'away_team',\n",
      "       'season_type', 'week', 'posteam', 'posteam_type', 'defteam',\n",
      "       ...\n",
      "       'defense_players', 'n_offense', 'n_defense', 'ngs_air_yards',\n",
      "       'time_to_throw', 'was_pressure', 'route', 'defense_man_zone_type',\n",
      "       'defense_coverage_type', 'old_game_id'],\n",
      "      dtype='object', length=392)\n",
      "count    19537.0\n",
      "mean         0.0\n",
      "std          0.0\n",
      "min          0.0\n",
      "25%          0.0\n",
      "50%          0.0\n",
      "75%          0.0\n",
      "max          0.0\n",
      "Name: yards_gained, dtype: float64\n",
      "count    19537.000000\n",
      "mean         3.675744\n",
      "std          7.966461\n",
      "min        -13.000000\n",
      "25%          0.000000\n",
      "50%          0.000000\n",
      "75%          5.000000\n",
      "max         99.000000\n",
      "Name: return_yards, dtype: float64\n"
     ]
    }
   ],
   "source": [
    "import nfl_data_py as nfl\n",
    "import pandas as pd\n",
    "\n",
    "# Load play-by-play data for the seasons you want to analyze\n",
    "seasons = range(2016, 2024 + 1)\n",
    "pbp_data = nfl.import_pbp_data(seasons)\n",
    "\n",
    "# Check available columns to find relevant punting stats\n",
    "print(pbp_data.columns)\n",
    "\n",
    "punt_data = pbp_data.query(\"play_type == 'punt'\")\n",
    "\n",
    "print(punt_data[\"yards_gained\"].describe())\n",
    "\n",
    "# Summary of return yards on punts\n",
    "print(punt_data[\"return_yards\"].describe())"
   ]
  },
  {
   "cell_type": "code",
   "execution_count": 83,
   "id": "26e74cde",
   "metadata": {},
   "outputs": [
    {
     "name": "stdout",
     "output_type": "stream",
     "text": [
      "count    19537.000000\n",
      "mean        42.171982\n",
      "std         10.869616\n",
      "min        -50.000000\n",
      "25%         37.000000\n",
      "50%         43.000000\n",
      "75%         49.000000\n",
      "max         84.000000\n",
      "Name: net_kick_distance, dtype: float64\n",
      "Average Net Punt Distance (Excluding Blocks): 42.39 yards\n"
     ]
    }
   ],
   "source": [
    "punt_data[\"net_kick_distance\"] = punt_data[\"kick_distance\"] - punt_data[\"return_yards\"]\n",
    "\n",
    "# Summary statistics for net punt distance\n",
    "print(punt_data[\"net_kick_distance\"].describe())\n",
    "\n",
    "# Calculate the average net punt distance, excluding blocked punts\n",
    "avg_net_punt_no_blocks = punt_data.query(\"punt_blocked == 0\")[\"net_kick_distance\"].mean()\n",
    "print(f\"Average Net Punt Distance (Excluding Blocks): {avg_net_punt_no_blocks:.2f} yards\")"
   ]
  },
  {
   "cell_type": "code",
   "execution_count": 302,
   "id": "233a6314",
   "metadata": {},
   "outputs": [
    {
     "data": {
      "text/plain": [
       "<Figure size 1200x600 with 0 Axes>"
      ]
     },
     "metadata": {},
     "output_type": "display_data"
    },
    {
     "data": {
      "image/png": "[encoded data removed]",
      "text/plain": [
       "<Figure size 700x600 with 1 Axes>"
      ]
     },
     "metadata": {},
     "output_type": "display_data"
    }
   ],
   "source": [
    "import seaborn as sns\n",
    "import matplotlib.pyplot as plt\n",
    "import numpy as np\n",
    "\n",
    "# Assuming you have columns 'kick_distance' and 'return_yards', calculate net_distance\n",
    "punt_data['net_distance'] = punt_data['kick_distance'] - punt_data['return_yards']\n",
    "\n",
    "# Classify punts into categories: Inside 5, Between 5 and 35\n",
    "punt_data['start_position'] = punt_data['yardline_100'].apply(\n",
    "    lambda x: 'Inside 5' if x >= 95 \n",
    "              else 'Between 5 and 35' if 95 > x >= 65 \n",
    "              else 'Beyond 35'  # optional, in case you want to include this category\n",
    ")\n",
    "\n",
    "# Make sure the 'start_position' column is categorical to separate data properly\n",
    "punt_data['start_position'] = pd.Categorical(punt_data['start_position'], categories=['Inside 5', 'Between 5 and 35', 'Beyond 35'])\n",
    "\n",
    "# Calculate the average net punt distance for each category (instead of kick_distance)\n",
    "average_values = punt_data.groupby('start_position')['net_distance'].mean()\n",
    "\n",
    "# Calculate blocked punt percentage for each category (net distance = 0 or null)\n",
    "blocked_percentage = punt_data.groupby('start_position').apply(lambda x: ((x['net_distance'].isnull()) | (x['net_distance'] == 0)).sum() / len(x) * 100)\n",
    "\n",
    "# Create the box plot for net_distance instead of kick_distance\n",
    "plt.figure(figsize=(12, 6))\n",
    "g = sns.catplot(x='start_position', y='net_distance', data=punt_data, palette='summer', kind='boxen', dodge=True)\n",
    "\n",
    "# Adding labels and title\n",
    "plt.title('Net Punt Distance Distribution by Field Position', pad=5, fontsize=12)\n",
    "plt.xlabel('Punt Start Position', labelpad=30)\n",
    "plt.ylabel('Net Punt Distance (yards)', labelpad=15)\n",
    "\n",
    "# Get the y-limits of the plot\n",
    "ylim = plt.ylim()\n",
    "\n",
    "# Add average and blocked punt percentage as text on the plot\n",
    "for i, position in enumerate(['Inside 5', 'Between 5 and 35', 'Beyond 35']):\n",
    "    avg_val = average_values[position]\n",
    "    blocked_pct = blocked_percentage[position]\n",
    "    \n",
    "    # Place average value text above the box plot\n",
    "    plt.text(i, avg_val + 1, f'Avg: {avg_val:.1f}', ha='center', color='black')\n",
    "    \n",
    "    # Place blocked punt percentage text below the x-axis labels\n",
    "    plt.text(i, ylim[0] - 11, f'({blocked_pct:.1f}% blocked)', ha='center', color='black', fontsize=10)\n",
    "\n",
    "# Adjust the figure size (optional)\n",
    "g.fig.set_size_inches(7, 6)\n",
    "\n",
    "# Show the plot\n",
    "plt.show()\n"
   ]
  },
  {
   "cell_type": "code",
   "execution_count": null,
   "id": "9d0c3ab4",
   "metadata": {},
   "outputs": [],
   "source": []
  }
 ],
 "metadata": {
  "kernelspec": {
   "display_name": "Python 3 (ipykernel)",
   "language": "python",
   "name": "python3"
  },
  "language_info": {
   "codemirror_mode": {
    "name": "ipython",
    "version": 3
   },
   "file_extension": ".py",
   "mimetype": "text/x-python",
   "name": "python",
   "nbconvert_exporter": "python",
   "pygments_lexer": "ipython3",
   "version": "3.9.13"
  }
 },
 "nbformat": 4,
 "nbformat_minor": 5
}
